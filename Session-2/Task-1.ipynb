{
 "cells": [
  {
   "cell_type": "code",
   "execution_count": 1,
   "id": "558521c1",
   "metadata": {},
   "outputs": [],
   "source": [
    "import pandas as pd\n",
    "from sklearn.linear_model import LinearRegression\n",
    "from sklearn.model_selection import train_test_split"
   ]
  },
  {
   "cell_type": "code",
   "execution_count": 2,
   "id": "df21875a",
   "metadata": {},
   "outputs": [],
   "source": [
    "#pip install scikit-learn"
   ]
  },
  {
   "cell_type": "code",
   "execution_count": 3,
   "id": "53530cb0",
   "metadata": {},
   "outputs": [],
   "source": [
    "path = \"DatasetLab1.csv\""
   ]
  },
  {
   "cell_type": "code",
   "execution_count": 4,
   "id": "6463dfec",
   "metadata": {},
   "outputs": [],
   "source": [
    "df= pd.read_csv(\"DatasetLab1.csv\", names = ['avg. Speed','Morning','Afternoon','Evening','weekend','rain','fog','distance to travel','travel time' ])"
   ]
  },
  {
   "cell_type": "code",
   "execution_count": 5,
   "id": "9e0c9891",
   "metadata": {
    "scrolled": true
   },
   "outputs": [
    {
     "data": {
      "text/html": [
       "<div>\n",
       "<style scoped>\n",
       "    .dataframe tbody tr th:only-of-type {\n",
       "        vertical-align: middle;\n",
       "    }\n",
       "\n",
       "    .dataframe tbody tr th {\n",
       "        vertical-align: top;\n",
       "    }\n",
       "\n",
       "    .dataframe thead th {\n",
       "        text-align: right;\n",
       "    }\n",
       "</style>\n",
       "<table border=\"1\" class=\"dataframe\">\n",
       "  <thead>\n",
       "    <tr style=\"text-align: right;\">\n",
       "      <th></th>\n",
       "      <th>avg. Speed</th>\n",
       "      <th>Morning</th>\n",
       "      <th>Afternoon</th>\n",
       "      <th>Evening</th>\n",
       "      <th>weekend</th>\n",
       "      <th>rain</th>\n",
       "      <th>fog</th>\n",
       "      <th>distance to travel</th>\n",
       "      <th>travel time</th>\n",
       "    </tr>\n",
       "  </thead>\n",
       "  <tbody>\n",
       "    <tr>\n",
       "      <th>0</th>\n",
       "      <td>80</td>\n",
       "      <td>1</td>\n",
       "      <td>0</td>\n",
       "      <td>0</td>\n",
       "      <td>1</td>\n",
       "      <td>0</td>\n",
       "      <td>0</td>\n",
       "      <td>5</td>\n",
       "      <td>8.750000</td>\n",
       "    </tr>\n",
       "    <tr>\n",
       "      <th>1</th>\n",
       "      <td>80</td>\n",
       "      <td>1</td>\n",
       "      <td>0</td>\n",
       "      <td>0</td>\n",
       "      <td>0</td>\n",
       "      <td>0</td>\n",
       "      <td>1</td>\n",
       "      <td>10</td>\n",
       "      <td>27.500000</td>\n",
       "    </tr>\n",
       "    <tr>\n",
       "      <th>2</th>\n",
       "      <td>100</td>\n",
       "      <td>0</td>\n",
       "      <td>1</td>\n",
       "      <td>0</td>\n",
       "      <td>1</td>\n",
       "      <td>1</td>\n",
       "      <td>0</td>\n",
       "      <td>30</td>\n",
       "      <td>33.000000</td>\n",
       "    </tr>\n",
       "    <tr>\n",
       "      <th>3</th>\n",
       "      <td>60</td>\n",
       "      <td>0</td>\n",
       "      <td>0</td>\n",
       "      <td>1</td>\n",
       "      <td>1</td>\n",
       "      <td>1</td>\n",
       "      <td>0</td>\n",
       "      <td>19</td>\n",
       "      <td>34.000000</td>\n",
       "    </tr>\n",
       "    <tr>\n",
       "      <th>4</th>\n",
       "      <td>90</td>\n",
       "      <td>0</td>\n",
       "      <td>1</td>\n",
       "      <td>0</td>\n",
       "      <td>1</td>\n",
       "      <td>1</td>\n",
       "      <td>0</td>\n",
       "      <td>22</td>\n",
       "      <td>29.666667</td>\n",
       "    </tr>\n",
       "    <tr>\n",
       "      <th>5</th>\n",
       "      <td>70</td>\n",
       "      <td>0</td>\n",
       "      <td>1</td>\n",
       "      <td>0</td>\n",
       "      <td>0</td>\n",
       "      <td>0</td>\n",
       "      <td>1</td>\n",
       "      <td>43</td>\n",
       "      <td>51.857143</td>\n",
       "    </tr>\n",
       "    <tr>\n",
       "      <th>6</th>\n",
       "      <td>80</td>\n",
       "      <td>1</td>\n",
       "      <td>0</td>\n",
       "      <td>0</td>\n",
       "      <td>1</td>\n",
       "      <td>0</td>\n",
       "      <td>1</td>\n",
       "      <td>56</td>\n",
       "      <td>62.000000</td>\n",
       "    </tr>\n",
       "    <tr>\n",
       "      <th>7</th>\n",
       "      <td>80</td>\n",
       "      <td>1</td>\n",
       "      <td>0</td>\n",
       "      <td>0</td>\n",
       "      <td>1</td>\n",
       "      <td>0</td>\n",
       "      <td>0</td>\n",
       "      <td>17</td>\n",
       "      <td>15.750000</td>\n",
       "    </tr>\n",
       "  </tbody>\n",
       "</table>\n",
       "</div>"
      ],
      "text/plain": [
       "   avg. Speed  Morning  Afternoon  Evening  weekend  rain  fog  \\\n",
       "0          80        1          0        0        1     0    0   \n",
       "1          80        1          0        0        0     0    1   \n",
       "2         100        0          1        0        1     1    0   \n",
       "3          60        0          0        1        1     1    0   \n",
       "4          90        0          1        0        1     1    0   \n",
       "5          70        0          1        0        0     0    1   \n",
       "6          80        1          0        0        1     0    1   \n",
       "7          80        1          0        0        1     0    0   \n",
       "\n",
       "   distance to travel  travel time  \n",
       "0                   5     8.750000  \n",
       "1                  10    27.500000  \n",
       "2                  30    33.000000  \n",
       "3                  19    34.000000  \n",
       "4                  22    29.666667  \n",
       "5                  43    51.857143  \n",
       "6                  56    62.000000  \n",
       "7                  17    15.750000  "
      ]
     },
     "execution_count": 5,
     "metadata": {},
     "output_type": "execute_result"
    }
   ],
   "source": [
    "df.head(8)"
   ]
  },
  {
   "cell_type": "code",
   "execution_count": 6,
   "id": "b316fb78",
   "metadata": {},
   "outputs": [],
   "source": [
    "features = ['avg. Speed','Morning','Afternoon','Evening','weekend','rain','fog','distance to travel']"
   ]
  },
  {
   "cell_type": "code",
   "execution_count": 7,
   "id": "0110a1ba",
   "metadata": {},
   "outputs": [
    {
     "name": "stdout",
     "output_type": "stream",
     "text": [
      "(20, 8)\n",
      "(20,)\n"
     ]
    }
   ],
   "source": [
    "x1=df[features].values\n",
    "y1=df['travel time'].values\n",
    "\n",
    "print(x1.shape)\n",
    "print(y1.shape)"
   ]
  },
  {
   "cell_type": "code",
   "execution_count": 8,
   "id": "35b2b0eb",
   "metadata": {},
   "outputs": [],
   "source": [
    "from sklearn.preprocessing import StandardScaler\n",
    "x_Stand = StandardScaler().fit_transform(x1)\n",
    "y_Stand = StandardScaler().fit_transform(y1.reshape(-1,1))\n",
    "\n",
    "x_Train, x_Test, y_Train, y_Test = train_test_split(x_Stand,y_Stand,train_size=0.15)\n",
    "\n",
    "#print(x_Train.shape)\n",
    "#print(y_Train.shape)\n",
    "#print(x_Test.shape)\n",
    "#print(y_Test.shape)"
   ]
  },
  {
   "cell_type": "code",
   "execution_count": 17,
   "id": "4087b6fd",
   "metadata": {},
   "outputs": [
    {
     "name": "stdout",
     "output_type": "stream",
     "text": [
      "R Square for train: 1.0\n",
      "intercept [0.37999826]\n",
      "slop: [[ 0.23010906  0.09185874 -0.0894346   0.          0.          0.\n",
      "  -0.40366583  0.30826255]]\n"
     ]
    }
   ],
   "source": [
    "model = LinearRegression()\n",
    "model.fit(x_Train,y_Train)\n",
    "\n",
    "r_sqr_train = model.score(x_Train,y_Train)\n",
    "print('R Square for train:',r_sqr_train)\n",
    "\n",
    "print('intercept',model.intercept_)\n",
    "\n",
    "print('slop:',model.coef_)\n",
    "\n"
   ]
  },
  {
   "cell_type": "code",
   "execution_count": 18,
   "id": "26921c0f",
   "metadata": {},
   "outputs": [
    {
     "data": {
      "text/plain": [
       "-0.24726841145255318"
      ]
     },
     "execution_count": 18,
     "metadata": {},
     "output_type": "execute_result"
    }
   ],
   "source": [
    "y_pred = model.predict(x_Test)\n",
    "r_sqr_test = model.score(x_Test,y_Test)\n",
    "r_sqr_test"
   ]
  }
 ],
 "metadata": {
  "kernelspec": {
   "display_name": "Python 3 (ipykernel)",
   "language": "python",
   "name": "python3"
  },
  "language_info": {
   "codemirror_mode": {
    "name": "ipython",
    "version": 3
   },
   "file_extension": ".py",
   "mimetype": "text/x-python",
   "name": "python",
   "nbconvert_exporter": "python",
   "pygments_lexer": "ipython3",
   "version": "3.10.9"
  },
  "vscode": {
   "interpreter": {
    "hash": "31f2aee4e71d21fbe5cf8b01ff0e069b9275f58929596ceb00d14d90e3e16cd6"
   }
  }
 },
 "nbformat": 4,
 "nbformat_minor": 5
}
