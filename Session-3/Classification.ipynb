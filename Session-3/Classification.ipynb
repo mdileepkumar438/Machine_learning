{
 "cells": [
  {
   "cell_type": "code",
   "execution_count": 244,
   "id": "6b1fad78",
   "metadata": {},
   "outputs": [],
   "source": [
    "import numpy as np\n",
    "import pandas as pd\n",
    "from sklearn.tree import DecisionTreeClassifier\n",
    "from sklearn.tree import export_text # this is used to show the DT Tree import pandas as pd # toread the dataset\n",
    "from sklearn.model_selection import train_test_split\n",
    "from sklearn import metrics"
   ]
  },
  {
   "cell_type": "code",
   "execution_count": 245,
   "id": "77952711",
   "metadata": {},
   "outputs": [],
   "source": [
    "url = \"https://archive.ics.uci.edu/ml/machine-learning-databases/iris/iris.data\"\n",
    "data_df = pd.read_csv(url, names=['sepal length','sepal width','petal length','petal width','target'])"
   ]
  },
  {
   "cell_type": "code",
   "execution_count": 246,
   "id": "bd972f40",
   "metadata": {},
   "outputs": [
    {
     "data": {
      "text/html": [
       "<div>\n",
       "<style scoped>\n",
       "    .dataframe tbody tr th:only-of-type {\n",
       "        vertical-align: middle;\n",
       "    }\n",
       "\n",
       "    .dataframe tbody tr th {\n",
       "        vertical-align: top;\n",
       "    }\n",
       "\n",
       "    .dataframe thead th {\n",
       "        text-align: right;\n",
       "    }\n",
       "</style>\n",
       "<table border=\"1\" class=\"dataframe\">\n",
       "  <thead>\n",
       "    <tr style=\"text-align: right;\">\n",
       "      <th></th>\n",
       "      <th>sepal length</th>\n",
       "      <th>sepal width</th>\n",
       "      <th>petal length</th>\n",
       "      <th>petal width</th>\n",
       "      <th>target</th>\n",
       "    </tr>\n",
       "  </thead>\n",
       "  <tbody>\n",
       "    <tr>\n",
       "      <th>0</th>\n",
       "      <td>5.1</td>\n",
       "      <td>3.5</td>\n",
       "      <td>1.4</td>\n",
       "      <td>0.2</td>\n",
       "      <td>Iris-setosa</td>\n",
       "    </tr>\n",
       "    <tr>\n",
       "      <th>1</th>\n",
       "      <td>4.9</td>\n",
       "      <td>3.0</td>\n",
       "      <td>1.4</td>\n",
       "      <td>0.2</td>\n",
       "      <td>Iris-setosa</td>\n",
       "    </tr>\n",
       "    <tr>\n",
       "      <th>2</th>\n",
       "      <td>4.7</td>\n",
       "      <td>3.2</td>\n",
       "      <td>1.3</td>\n",
       "      <td>0.2</td>\n",
       "      <td>Iris-setosa</td>\n",
       "    </tr>\n",
       "    <tr>\n",
       "      <th>3</th>\n",
       "      <td>4.6</td>\n",
       "      <td>3.1</td>\n",
       "      <td>1.5</td>\n",
       "      <td>0.2</td>\n",
       "      <td>Iris-setosa</td>\n",
       "    </tr>\n",
       "    <tr>\n",
       "      <th>4</th>\n",
       "      <td>5.0</td>\n",
       "      <td>3.6</td>\n",
       "      <td>1.4</td>\n",
       "      <td>0.2</td>\n",
       "      <td>Iris-setosa</td>\n",
       "    </tr>\n",
       "    <tr>\n",
       "      <th>...</th>\n",
       "      <td>...</td>\n",
       "      <td>...</td>\n",
       "      <td>...</td>\n",
       "      <td>...</td>\n",
       "      <td>...</td>\n",
       "    </tr>\n",
       "    <tr>\n",
       "      <th>145</th>\n",
       "      <td>6.7</td>\n",
       "      <td>3.0</td>\n",
       "      <td>5.2</td>\n",
       "      <td>2.3</td>\n",
       "      <td>Iris-virginica</td>\n",
       "    </tr>\n",
       "    <tr>\n",
       "      <th>146</th>\n",
       "      <td>6.3</td>\n",
       "      <td>2.5</td>\n",
       "      <td>5.0</td>\n",
       "      <td>1.9</td>\n",
       "      <td>Iris-virginica</td>\n",
       "    </tr>\n",
       "    <tr>\n",
       "      <th>147</th>\n",
       "      <td>6.5</td>\n",
       "      <td>3.0</td>\n",
       "      <td>5.2</td>\n",
       "      <td>2.0</td>\n",
       "      <td>Iris-virginica</td>\n",
       "    </tr>\n",
       "    <tr>\n",
       "      <th>148</th>\n",
       "      <td>6.2</td>\n",
       "      <td>3.4</td>\n",
       "      <td>5.4</td>\n",
       "      <td>2.3</td>\n",
       "      <td>Iris-virginica</td>\n",
       "    </tr>\n",
       "    <tr>\n",
       "      <th>149</th>\n",
       "      <td>5.9</td>\n",
       "      <td>3.0</td>\n",
       "      <td>5.1</td>\n",
       "      <td>1.8</td>\n",
       "      <td>Iris-virginica</td>\n",
       "    </tr>\n",
       "  </tbody>\n",
       "</table>\n",
       "<p>150 rows × 5 columns</p>\n",
       "</div>"
      ],
      "text/plain": [
       "     sepal length  sepal width  petal length  petal width          target\n",
       "0             5.1          3.5           1.4          0.2     Iris-setosa\n",
       "1             4.9          3.0           1.4          0.2     Iris-setosa\n",
       "2             4.7          3.2           1.3          0.2     Iris-setosa\n",
       "3             4.6          3.1           1.5          0.2     Iris-setosa\n",
       "4             5.0          3.6           1.4          0.2     Iris-setosa\n",
       "..            ...          ...           ...          ...             ...\n",
       "145           6.7          3.0           5.2          2.3  Iris-virginica\n",
       "146           6.3          2.5           5.0          1.9  Iris-virginica\n",
       "147           6.5          3.0           5.2          2.0  Iris-virginica\n",
       "148           6.2          3.4           5.4          2.3  Iris-virginica\n",
       "149           5.9          3.0           5.1          1.8  Iris-virginica\n",
       "\n",
       "[150 rows x 5 columns]"
      ]
     },
     "execution_count": 246,
     "metadata": {},
     "output_type": "execute_result"
    }
   ],
   "source": [
    "#data_df.shape\n",
    "#data_df.isnull().sum()\n",
    "data_df\n",
    "\n"
   ]
  },
  {
   "cell_type": "code",
   "execution_count": 247,
   "id": "af56fee6",
   "metadata": {},
   "outputs": [
    {
     "name": "stdout",
     "output_type": "stream",
     "text": [
      "|--- petal width <= 0.65\n",
      "|   |--- class: Iris-setosa\n",
      "|--- petal width >  0.65\n",
      "|   |--- petal length <= 4.95\n",
      "|   |   |--- sepal length <= 4.95\n",
      "|   |   |   |--- class: Iris-virginica\n",
      "|   |   |--- sepal length >  4.95\n",
      "|   |   |   |--- class: Iris-versicolor\n",
      "|   |--- petal length >  4.95\n",
      "|   |   |--- class: Iris-virginica\n",
      "\n",
      "Accuracy: 0.9416666666666667\n",
      "Score: 0.9416666666666667\n"
     ]
    }
   ],
   "source": [
    "features = ['sepal length','sepal width','petal length','petal width']\n",
    "target = ['target']\n",
    "\n",
    "x1 = data_df[features]\n",
    "y1 = data_df[target]\n",
    "#print(x1.shape)\n",
    "#print(y1.shape)\n",
    "x_train, x_test, y_train, y_test = train_test_split(x1,y1,train_size=0.2)\n",
    "r = export_text(clf,feature_names= features)\n",
    "print(r)\n",
    "clf = DecisionTreeClassifier(max_depth = 3, random_state = 0)\n",
    "clf.fit(x_train, y_train)\n",
    "y_pred=clf.predict(x_test)\n",
    "score = clf.score(x_test, y_test)\n",
    "print(\"Accuracy:\",metrics.accuracy_score(y_test, y_pred))\n",
    "\n",
    "print(\"Score:\",score)"
   ]
  },
  {
   "cell_type": "code",
   "execution_count": 248,
   "id": "822b50ee",
   "metadata": {},
   "outputs": [
    {
     "name": "stdout",
     "output_type": "stream",
     "text": [
      "[0.         0.         0.45454545 0.54545455]\n"
     ]
    },
    {
     "data": {
      "text/plain": [
       "petal width     0.545455\n",
       "petal length    0.454545\n",
       "sepal length    0.000000\n",
       "sepal width     0.000000\n",
       "dtype: float64"
      ]
     },
     "execution_count": 248,
     "metadata": {},
     "output_type": "execute_result"
    }
   ],
   "source": [
    "\n",
    "feature_imp = pd.Series(clf.feature_importances_,index= features).sort_values(ascending=False)\n",
    "\n",
    "print(clf.feature_importances_)\n",
    "feature_imp"
   ]
  },
  {
   "cell_type": "code",
   "execution_count": 249,
   "id": "c55e90f1",
   "metadata": {},
   "outputs": [
    {
     "ename": "NotFittedError",
     "evalue": "This DecisionTreeClassifier instance is not fitted yet. Call 'fit' with appropriate arguments before using this estimator.",
     "output_type": "error",
     "traceback": [
      "\u001b[0;31m---------------------------------------------------------------------------\u001b[0m",
      "\u001b[0;31mNotFittedError\u001b[0m                            Traceback (most recent call last)",
      "Cell \u001b[0;32mIn[249], line 11\u001b[0m\n\u001b[1;32m      7\u001b[0m x_train1, x_test1, y_train1, y_test1 \u001b[39m=\u001b[39m train_test_split(x2,y2,train_size\u001b[39m=\u001b[39m\u001b[39m0.2\u001b[39m)\n\u001b[1;32m     10\u001b[0m clf1 \u001b[39m=\u001b[39m DecisionTreeClassifier(max_depth \u001b[39m=\u001b[39m \u001b[39m3\u001b[39m, random_state \u001b[39m=\u001b[39m \u001b[39m0\u001b[39m)\n\u001b[0;32m---> 11\u001b[0m r1 \u001b[39m=\u001b[39m export_text(clf1,feature_names\u001b[39m=\u001b[39;49m features_1)\n\u001b[1;32m     12\u001b[0m \u001b[39mprint\u001b[39m(r)\n\u001b[1;32m     14\u001b[0m clf\u001b[39m.\u001b[39mfit(x_train1, y_train1)\n",
      "File \u001b[0;32m~/Library/Python/3.9/lib/python/site-packages/sklearn/tree/_export.py:986\u001b[0m, in \u001b[0;36mexport_text\u001b[0;34m(decision_tree, feature_names, max_depth, spacing, decimals, show_weights)\u001b[0m\n\u001b[1;32m    922\u001b[0m \u001b[39mdef\u001b[39;00m \u001b[39mexport_text\u001b[39m(\n\u001b[1;32m    923\u001b[0m     decision_tree,\n\u001b[1;32m    924\u001b[0m     \u001b[39m*\u001b[39m,\n\u001b[0;32m   (...)\u001b[0m\n\u001b[1;32m    929\u001b[0m     show_weights\u001b[39m=\u001b[39m\u001b[39mFalse\u001b[39;00m,\n\u001b[1;32m    930\u001b[0m ):\n\u001b[1;32m    931\u001b[0m \u001b[39m    \u001b[39m\u001b[39m\"\"\"Build a text report showing the rules of a decision tree.\u001b[39;00m\n\u001b[1;32m    932\u001b[0m \n\u001b[1;32m    933\u001b[0m \u001b[39m    Note that backwards compatibility may not be supported.\u001b[39;00m\n\u001b[0;32m   (...)\u001b[0m\n\u001b[1;32m    984\u001b[0m \u001b[39m    |   |   |--- class: 2\u001b[39;00m\n\u001b[1;32m    985\u001b[0m \u001b[39m    \"\"\"\u001b[39;00m\n\u001b[0;32m--> 986\u001b[0m     check_is_fitted(decision_tree)\n\u001b[1;32m    987\u001b[0m     tree_ \u001b[39m=\u001b[39m decision_tree\u001b[39m.\u001b[39mtree_\n\u001b[1;32m    988\u001b[0m     \u001b[39mif\u001b[39;00m is_classifier(decision_tree):\n",
      "File \u001b[0;32m~/Library/Python/3.9/lib/python/site-packages/sklearn/utils/validation.py:1390\u001b[0m, in \u001b[0;36mcheck_is_fitted\u001b[0;34m(estimator, attributes, msg, all_or_any)\u001b[0m\n\u001b[1;32m   1385\u001b[0m     fitted \u001b[39m=\u001b[39m [\n\u001b[1;32m   1386\u001b[0m         v \u001b[39mfor\u001b[39;00m v \u001b[39min\u001b[39;00m \u001b[39mvars\u001b[39m(estimator) \u001b[39mif\u001b[39;00m v\u001b[39m.\u001b[39mendswith(\u001b[39m\"\u001b[39m\u001b[39m_\u001b[39m\u001b[39m\"\u001b[39m) \u001b[39mand\u001b[39;00m \u001b[39mnot\u001b[39;00m v\u001b[39m.\u001b[39mstartswith(\u001b[39m\"\u001b[39m\u001b[39m__\u001b[39m\u001b[39m\"\u001b[39m)\n\u001b[1;32m   1387\u001b[0m     ]\n\u001b[1;32m   1389\u001b[0m \u001b[39mif\u001b[39;00m \u001b[39mnot\u001b[39;00m fitted:\n\u001b[0;32m-> 1390\u001b[0m     \u001b[39mraise\u001b[39;00m NotFittedError(msg \u001b[39m%\u001b[39m {\u001b[39m\"\u001b[39m\u001b[39mname\u001b[39m\u001b[39m\"\u001b[39m: \u001b[39mtype\u001b[39m(estimator)\u001b[39m.\u001b[39m\u001b[39m__name__\u001b[39m})\n",
      "\u001b[0;31mNotFittedError\u001b[0m: This DecisionTreeClassifier instance is not fitted yet. Call 'fit' with appropriate arguments before using this estimator."
     ]
    }
   ],
   "source": [
    "features_1 = ['sepal length','petal length','petal width']\n",
    "target_1 = ['target']\n",
    "\n",
    "x2 = data_df[features]\n",
    "y2 = data_df[target]\n",
    "\n",
    "x_train1, x_test1, y_train1, y_test1 = train_test_split(x2,y2,train_size=0.2)\n",
    "\n",
    "\n",
    "clf1 = DecisionTreeClassifier(max_depth = 3, random_state = 0)\n",
    "r1 = export_text(clf1,feature_names= features_1)\n",
    "print(r)\n",
    "\n",
    "clf.fit(x_train1, y_train1)\n",
    "y_pred=clf.predict(x_test1)\n",
    "score = clf.score(x_test1, y_test1)\n",
    "print(\"Accuracy:\",metrics.accuracy_score(y_test1, y_pred1))\n",
    "\n",
    "print(\"Score:\",score)"
   ]
  },
  {
   "cell_type": "code",
   "execution_count": null,
   "id": "71bc8a7e",
   "metadata": {},
   "outputs": [],
   "source": []
  }
 ],
 "metadata": {
  "kernelspec": {
   "display_name": "Python 3 (ipykernel)",
   "language": "python",
   "name": "python3"
  },
  "language_info": {
   "codemirror_mode": {
    "name": "ipython",
    "version": 3
   },
   "file_extension": ".py",
   "mimetype": "text/x-python",
   "name": "python",
   "nbconvert_exporter": "python",
   "pygments_lexer": "ipython3",
   "version": "3.10.9"
  },
  "vscode": {
   "interpreter": {
    "hash": "31f2aee4e71d21fbe5cf8b01ff0e069b9275f58929596ceb00d14d90e3e16cd6"
   }
  }
 },
 "nbformat": 4,
 "nbformat_minor": 5
}
