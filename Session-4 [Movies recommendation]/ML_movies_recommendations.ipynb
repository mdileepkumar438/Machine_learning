{
 "cells": [
  {
   "cell_type": "code",
   "execution_count": null,
   "id": "e2e911de",
   "metadata": {},
   "outputs": [],
   "source": [
    "import numpy as np\n",
    "import pandas as pd\n",
    "import difflib   # finds the approximate values/string from Dataset\n",
    "from sklearn.feature_extraction.text import TfidfVectorizer  # convert text values into numbers\n",
    "from sklearn.metrics.pairwise import cosine_similarity    # Finds the similaties between all valus from dataset"
   ]
  },
  {
   "attachments": {},
   "cell_type": "markdown",
   "id": "a829cb32",
   "metadata": {},
   "source": [
    "Data Filtering & Transformation"
   ]
  },
  {
   "cell_type": "code",
   "execution_count": null,
   "id": "87322868",
   "metadata": {},
   "outputs": [],
   "source": [
    "# loading the data from the csv file to apandas dataframe\n",
    "movies_data = pd.read_csv('movies.csv')\n",
    "#movies_data.head()\n",
    "#movies_data.shape\n",
    "\n",
    "# selecting the relevant features for recommendation\n",
    "selected_features = ['genres','keywords','tagline','cast','director']\n",
    "#print(selected_features)\n",
    "# replacing all null valuess with null string\n",
    "\n",
    "for feature in selected_features:\n",
    "  movies_data[feature] = movies_data[feature].fillna('')\n",
    "\n",
    "\n",
    "# combining all the 5 selected features\n",
    "combined_features = movies_data['genres']+' '+movies_data['keywords']+' '+movies_data['tagline']+' '+movies_data['cast']+' '+movies_data['director']\n",
    "#print(combined_features)\n",
    "\n",
    "\n",
    "# converting the text data to feature vectors\n",
    "vectorizer = TfidfVectorizer()\n",
    "feature_vectors = vectorizer.fit_transform(combined_features)\n",
    "#print(feature_vectors)\n",
    "\n",
    "# getting the similarity scores using cosine similarity\n",
    "similarity = cosine_similarity(feature_vectors)\n",
    "#print(similarity)\n",
    "#print(similarity.shape)"
   ]
  },
  {
   "attachments": {},
   "cell_type": "markdown",
   "id": "d2402d66",
   "metadata": {},
   "source": [
    "_____________________________________________________________________________________________________________________________________\n",
    "Movie Recommendation using Genre / movie name:"
   ]
  },
  {
   "cell_type": "code",
   "execution_count": null,
   "id": "15dd9f1e",
   "metadata": {},
   "outputs": [],
   "source": [
    "# getting the movie name from the user\n",
    "\n",
    "movie_name = input(' Enter your favourite movie name : ')\n",
    "#print(movie_name)\n",
    "\n",
    "# creating a list with all the movie names given in the dataset\n",
    "\n",
    "list_of_all_titles = movies_data['title'].tolist()\n",
    "#print(list_of_all_titles)\n",
    "\n",
    "# finding the close match for the movie name given by the user\n",
    "\n",
    "find_close_match = difflib.get_close_matches(movie_name, list_of_all_titles)\n",
    "#print(find_close_match)\n",
    "close_match = find_close_match[0]\n",
    "#print(close_match)\n",
    "\n",
    "# finding the index of the movie with title\n",
    "index_of_the_movie = movies_data[movies_data.title == close_match]['index'].values[0]\n",
    "#print(index_of_the_movie)\n",
    "\n",
    "# getting a list of similar movies\n",
    "similarity_score = list(enumerate(similarity[index_of_the_movie]))\n",
    "#print(similarity_score)\n",
    "#len(similarity_score)\n",
    "\n",
    "# sorting the movies based on their similarity score\n",
    "sorted_similar_movies = sorted(similarity_score, key = lambda x:x[1], reverse = True) \n",
    "#print(sorted_similar_movies)\n",
    "\n",
    "# print the name of similar movies based on the index\n",
    "print('Movies suggested for you : \\n')\n",
    "i = 1\n",
    "for movie in sorted_similar_movies:\n",
    "  index = movie[0]\n",
    "  title_from_index = movies_data[movies_data.index==index]['title'].values[0]\n",
    "  if (i<20):\n",
    "    print(i, '.',title_from_index)\n",
    "    i+=1"
   ]
  }
 ],
 "metadata": {
  "kernelspec": {
   "display_name": "Python 3",
   "language": "python",
   "name": "python3"
  },
  "language_info": {
   "codemirror_mode": {
    "name": "ipython",
    "version": 3
   },
   "file_extension": ".py",
   "mimetype": "text/x-python",
   "name": "python",
   "nbconvert_exporter": "python",
   "pygments_lexer": "ipython3",
   "version": "3.9.6"
  },
  "vscode": {
   "interpreter": {
    "hash": "31f2aee4e71d21fbe5cf8b01ff0e069b9275f58929596ceb00d14d90e3e16cd6"
   }
  }
 },
 "nbformat": 4,
 "nbformat_minor": 5
}
